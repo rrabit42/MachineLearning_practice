{
  "nbformat": 4,
  "nbformat_minor": 0,
  "metadata": {
    "anaconda-cloud": {},
    "colab": {
      "name": "AS1_Logistic_Regression.ipynb",
      "provenance": [],
      "collapsed_sections": []
    },
    "kernelspec": {
      "display_name": "Python 3",
      "language": "python",
      "name": "python3"
    },
    "language_info": {
      "codemirror_mode": {
        "name": "ipython",
        "version": 3
      },
      "file_extension": ".py",
      "mimetype": "text/x-python",
      "name": "python",
      "nbconvert_exporter": "python",
      "pygments_lexer": "ipython3",
      "version": "3.5.2"
    }
  },
  "cells": [
    {
      "cell_type": "markdown",
      "metadata": {
        "id": "t6j5WcA3GbSk"
      },
      "source": [
        "#Assignment 1: Logistic Regression"
      ]
    },
    {
      "cell_type": "markdown",
      "metadata": {
        "id": "ei9BMeksGbSn"
      },
      "source": [
        "## Dataset load & Plot"
      ]
    },
    {
      "cell_type": "code",
      "metadata": {
        "id": "Vlb19coAGbSo"
      },
      "source": [
        "%matplotlib inline\n",
        "import numpy as np\n",
        "import matplotlib.pyplot as plt\n",
        "from sklearn.linear_model import LogisticRegression\n",
        "from warnings import filterwarnings\n",
        "filterwarnings('ignore')"
      ],
      "execution_count": 7,
      "outputs": []
    },
    {
      "cell_type": "code",
      "metadata": {
        "id": "xV9Z9RPMGbSt",
        "scrolled": true,
        "colab": {
          "base_uri": "https://localhost:8080/",
          "height": 265
        },
        "outputId": "ce112af7-b74a-424d-9d3b-5fffd5142623"
      },
      "source": [
        "data = np.loadtxt('data.csv', delimiter=',')\n",
        "X = data[:, :2]\n",
        "y = data[:, 2]\n",
        "label_mask = np.equal(y, 1)\n",
        "\n",
        "plt.scatter(X[:, 0][label_mask], X[:, 1][label_mask], color='red')\n",
        "plt.scatter(X[:, 0][~label_mask], X[:, 1][~label_mask], color='blue')\n",
        "plt.show()"
      ],
      "execution_count": 8,
      "outputs": [
        {
          "output_type": "display_data",
          "data": {
            "image/png": "[encoded data removed]",
            "text/plain": [
              "<Figure size 432x288 with 1 Axes>"
            ]
          },
          "metadata": {
            "tags": [],
            "needs_background": "light"
          }
        }
      ]
    },
    {
      "cell_type": "markdown",
      "metadata": {
        "id": "kwcWe3pDGbSy"
      },
      "source": [
        "# Problem 1-1. Logistic regression model using sklearn packages.\n",
        "\n",
        "Train your data using LogisticRegression classes from skikit-learn library.\n"
      ]
    },
    {
      "cell_type": "code",
      "metadata": {
        "id": "ONWQ_Q5yGbS0"
      },
      "source": [
        "def learn_and_return_weights(X, y):\n",
        "    from sklearn.linear_model import LogisticRegression\n",
        "\n",
        "    # w: coefficient of the model to input features,\n",
        "    # b: bias of the model\n",
        "\n",
        "    lr = LogisticRegression(C=100.0, random_state=0)\n",
        "    lr.fit(X, y)\n",
        "\n",
        "    return lr.coef_[0], lr.intercept_[0]"
      ],
      "execution_count": 9,
      "outputs": []
    },
    {
      "cell_type": "code",
      "metadata": {
        "id": "HkQB55lkGbS3",
        "colab": {
          "base_uri": "https://localhost:8080/",
          "height": 265
        },
        "outputId": "e6561e11-c94f-4747-ae2a-39b3598f984b"
      },
      "source": [
        "def plot_data_and_weights(X, y, w, b):\n",
        "    plt.scatter(X[:, 0][label_mask], X[:, 1][label_mask], color='red')\n",
        "    plt.scatter(X[:, 0][~label_mask], X[:, 1][~label_mask], color='blue')\n",
        "\n",
        "    x_lin = np.arange(20, 70)\n",
        "    y_lin = -(0.5 + b + w[0] * x_lin) / w[1]\n",
        "\n",
        "    plt.plot(x_lin, y_lin, color='black');\n",
        "    plt.show()\n",
        "\n",
        "w, b = learn_and_return_weights(X, y)\n",
        "plot_data_and_weights(X, y, w, b)"
      ],
      "execution_count": 10,
      "outputs": [
        {
          "output_type": "display_data",
          "data": {
            "image/png": "[encoded data removed]",
            "text/plain": [
              "<Figure size 432x288 with 1 Axes>"
            ]
          },
          "metadata": {
            "tags": [],
            "needs_background": "light"
          }
        }
      ]
    },
    {
      "cell_type": "markdown",
      "metadata": {
        "id": "jKYz83ecGbS6"
      },
      "source": [
        "## Problem 1-2. Implement Logistic Regression Model\n",
        "\n",
        "Implement Logistic Regression without using scikit-learn libraries.\n"
      ]
    },
    {
      "cell_type": "code",
      "metadata": {
        "id": "eGTRLxvsGbS7"
      },
      "source": [
        "from scipy.special import xlogy\n",
        "\n",
        "def sigmoid(z):\n",
        "  return 1 / (1 + np.exp(-z))\n",
        "\n",
        "def binary_cross_entropy_loss(y_pred, target):\n",
        "  \n",
        "  # finfo: float로 표현가능한 수의 한계\n",
        "  # eps: 표현 가능한 가장 작은 값\n",
        "  eps = np.finfo(y_pred.dtype).eps\n",
        "\n",
        "  # 0보다 작은 수는 0으로 변환(배열, 최소값 기준, 최대값 기준)\n",
        "  y_pred = np.clip(y_pred, eps, 1-eps)\n",
        "\n",
        "  # 위 두개 안해주면 nan, inf, -inf이 나와서 계산이 제대로 안이루어짐..\n",
        "  return -np.mean((target * np.log(y_pred) + (1 - target) * np.log(1 - y_pred)))\n",
        "\n",
        "def learn_and_return_weights_numpy(X, Y, lr=0.1, iter=100000):\n",
        "  N, features = X.shape\n",
        "\n",
        "  w = np.zeros(features)\n",
        "  b = 0\n",
        "\n",
        "  for i in range(iter):\n",
        "    z = np.dot(X, w) + b\n",
        "    pred = sigmoid(z)\n",
        "\n",
        "    # binary cross entropy로 loss 구하기\n",
        "    err = binary_cross_entropy_loss(pred, Y)\n",
        "\n",
        "    # 실제 값과 예측 값의 차이\n",
        "    diff = pred - Y\n",
        "\n",
        "    # weight, bias 업데이트\n",
        "    dw = np.dot(diff, X) / N\n",
        "    db = np.sum(diff) / N\n",
        "    w -= dw * lr\n",
        "    b -= db * lr\n",
        "\n",
        "    if i % 1000 == 0:\n",
        "        print(err)\n",
        "  return w, b"
      ],
      "execution_count": 11,
      "outputs": []
    },
    {
      "cell_type": "code",
      "metadata": {
        "id": "ryO_ItqRGbS_",
        "colab": {
          "base_uri": "https://localhost:8080/",
          "height": 1000
        },
        "outputId": "1b650da4-8ef7-4285-ec53-b652922f5a04"
      },
      "source": [
        "w, b = learn_and_return_weights_numpy(X, y)\n",
        "plot_data_and_weights(X, y, w, b)"
      ],
      "execution_count": 12,
      "outputs": [
        {
          "output_type": "stream",
          "text": [
            "0.6931471805599453\n",
            "19.66017457588208\n",
            "16.38347881323507\n",
            "16.38347881323507\n",
            "19.66017457588208\n",
            "16.38347881323507\n",
            "2.2204460492503136e-16\n",
            "2.2204460492503136e-16\n",
            "2.2204460492503136e-16\n",
            "2.2204460492503136e-16\n",
            "2.2204460492503136e-16\n",
            "2.2204460492503136e-16\n",
            "2.2204460492503136e-16\n",
            "2.2204460492503136e-16\n",
            "2.2204460492503136e-16\n",
            "2.2204460492503136e-16\n",
            "2.2204460492503136e-16\n",
            "2.2204460492503136e-16\n",
            "2.2204460492503136e-16\n",
            "2.2204460492503136e-16\n",
            "2.2204460492503136e-16\n",
            "2.2204460492503136e-16\n",
            "2.2204460492503136e-16\n",
            "2.2204460492503136e-16\n",
            "2.2204460492503136e-16\n",
            "2.2204460492503136e-16\n",
            "2.2204460492503136e-16\n",
            "2.2204460492503136e-16\n",
            "2.2204460492503136e-16\n",
            "2.2204460492503136e-16\n",
            "2.2204460492503136e-16\n",
            "2.2204460492503136e-16\n",
            "2.2204460492503136e-16\n",
            "2.2204460492503136e-16\n",
            "2.2204460492503136e-16\n",
            "2.2204460492503136e-16\n",
            "2.2204460492503136e-16\n",
            "2.2204460492503136e-16\n",
            "2.2204460492503136e-16\n",
            "2.2204460492503136e-16\n",
            "2.2204460492503136e-16\n",
            "2.2204460492503136e-16\n",
            "2.2204460492503136e-16\n",
            "2.2204460492503136e-16\n",
            "2.2204460492503136e-16\n",
            "2.2204460492503136e-16\n",
            "2.2204460492503136e-16\n",
            "2.2204460492503136e-16\n",
            "2.2204460492503136e-16\n",
            "2.2204460492503136e-16\n",
            "2.2204460492503136e-16\n",
            "2.2204460492503136e-16\n",
            "2.2204460492503136e-16\n",
            "2.2204460492503136e-16\n",
            "2.2204460492503136e-16\n",
            "2.2204460492503136e-16\n",
            "2.2204460492503136e-16\n",
            "2.2204460492503136e-16\n",
            "2.2204460492503136e-16\n",
            "2.2204460492503136e-16\n",
            "2.2204460492503136e-16\n",
            "2.2204460492503136e-16\n",
            "2.2204460492503136e-16\n",
            "2.2204460492503136e-16\n",
            "2.2204460492503136e-16\n",
            "2.2204460492503136e-16\n",
            "2.2204460492503136e-16\n",
            "2.2204460492503136e-16\n",
            "2.2204460492503136e-16\n",
            "2.2204460492503136e-16\n",
            "2.2204460492503136e-16\n",
            "2.2204460492503136e-16\n",
            "2.2204460492503136e-16\n",
            "2.2204460492503136e-16\n",
            "2.2204460492503136e-16\n",
            "2.2204460492503136e-16\n",
            "2.2204460492503136e-16\n",
            "2.2204460492503136e-16\n",
            "2.2204460492503136e-16\n",
            "2.2204460492503136e-16\n",
            "2.2204460492503136e-16\n",
            "2.2204460492503136e-16\n",
            "2.2204460492503136e-16\n",
            "2.2204460492503136e-16\n",
            "2.2204460492503136e-16\n",
            "2.2204460492503136e-16\n",
            "2.2204460492503136e-16\n",
            "2.2204460492503136e-16\n",
            "2.2204460492503136e-16\n",
            "2.2204460492503136e-16\n",
            "2.2204460492503136e-16\n",
            "2.2204460492503136e-16\n",
            "2.2204460492503136e-16\n",
            "2.2204460492503136e-16\n",
            "2.2204460492503136e-16\n",
            "2.2204460492503136e-16\n",
            "2.2204460492503136e-16\n",
            "2.2204460492503136e-16\n",
            "2.2204460492503136e-16\n",
            "2.2204460492503136e-16\n"
          ],
          "name": "stdout"
        },
        {
          "output_type": "display_data",
          "data": {
            "image/png": "[encoded data removed]",
            "text/plain": [
              "<Figure size 432x288 with 1 Axes>"
            ]
          },
          "metadata": {
            "tags": [],
            "needs_background": "light"
          }
        }
      ]
    },
    {
      "cell_type": "code",
      "metadata": {
        "id": "sRqH_RsdhfXv"
      },
      "source": [
        ""
      ],
      "execution_count": null,
      "outputs": []
    }
  ]
}