{
  "nbformat": 4,
  "nbformat_minor": 0,
  "metadata": {
    "anaconda-cloud": {},
    "kernelspec": {
      "display_name": "Python 3",
      "language": "python",
      "name": "python3"
    },
    "language_info": {
      "codemirror_mode": {
        "name": "ipython",
        "version": 3
      },
      "file_extension": ".py",
      "mimetype": "text/x-python",
      "name": "python",
      "nbconvert_exporter": "python",
      "pygments_lexer": "ipython3",
      "version": "3.5.2"
    },
    "colab": {
      "name": "AS0_Python_basics.ipynb",
      "provenance": [],
      "collapsed_sections": []
    }
  },
  "cells": [
    {
      "cell_type": "markdown",
      "metadata": {
        "id": "GjIaRT-5ULos"
      },
      "source": [
        "Assignment 0: Python Basics"
      ]
    },
    {
      "cell_type": "markdown",
      "metadata": {
        "id": "kbWpPPQKULow"
      },
      "source": [
        "## Problem 1: Selection Sort\n",
        "\n",
        "아래 selection sort 함수를 구현해보세요. \n",
        "YOUR CODE COMES HERE 라는 주석이 있는 곳을 채우면 됩니다."
      ]
    },
    {
      "cell_type": "code",
      "metadata": {
        "id": "EyYXu1hzULoy"
      },
      "source": [
        "def selection_sort(arr):\n",
        "    for i in range(len(arr) -1):\n",
        "      min_idx = i\n",
        "      for j in range(i+1, len(arr)):\n",
        "        if arr[j] < arr[min_idx]:\n",
        "          min_idx = j\n",
        "      arr[i], arr[min_idx] = arr[min_idx], arr[i] # swap\n",
        "    return arr"
      ],
      "execution_count": 2,
      "outputs": []
    },
    {
      "cell_type": "code",
      "metadata": {
        "scrolled": false,
        "id": "cT_dRw1vULo4",
        "colab": {
          "base_uri": "https://localhost:8080/"
        },
        "outputId": "36d23092-2d10-41cb-c818-5b3265fe8483"
      },
      "source": [
        "import random\n",
        "array = [random.randint(0, 20) for _ in range(20)]\n",
        "print('array: ', array)\n",
        "\n",
        "array_sorted = selection_sort(array)\n",
        "print('sorted:', array_sorted)\n",
        "\n",
        "print()\n",
        "print('Q: Is the array sorted?')\n",
        "print('A:', sorted(array) == array_sorted)"
      ],
      "execution_count": 3,
      "outputs": [
        {
          "output_type": "stream",
          "text": [
            "array:  [8, 6, 5, 10, 4, 7, 18, 12, 15, 7, 0, 8, 4, 1, 5, 4, 1, 20, 6, 5]\n",
            "sorted: [0, 1, 1, 4, 4, 4, 5, 5, 5, 6, 6, 7, 7, 8, 8, 10, 12, 15, 18, 20]\n",
            "\n",
            "Q: Is the array sorted?\n",
            "A: True\n"
          ],
          "name": "stdout"
        }
      ]
    },
    {
      "cell_type": "markdown",
      "metadata": {
        "id": "v4K9EF1rULo-"
      },
      "source": [
        "## Problem 2: Classes\n",
        "\n",
        "Selection sort, insertion sort, merge sort를 아래 class의 instance method로 구현해 보세요. <br>\n",
        "YOUR CODE COMES HERE 라는 주석이 있는 곳을 채우면 됩니다."
      ]
    },
    {
      "cell_type": "code",
      "metadata": {
        "id": "XAtRozsxULo_"
      },
      "source": [
        "class Sorter:\n",
        "    def __init__(self, method):\n",
        "        self.method = method\n",
        "        \n",
        "    @staticmethod\n",
        "    def of(method):\n",
        "        return Sorter(method)\n",
        "        \n",
        "    def sort(self, arr):\n",
        "        if self.method == 'selection_sort':\n",
        "            return self.selection_sort(arr)\n",
        "        \n",
        "        elif self.method == 'insertion_sort':\n",
        "            return self.insertion_sort(arr)\n",
        "        \n",
        "        elif self.method == 'merge_sort':\n",
        "            return self.merge_sort(arr)\n",
        "        \n",
        "        else:\n",
        "            raise ValueError('Unknown method: %s' % method)\n",
        "\n",
        "    def selection_sort(self, arr):\n",
        "      for i in range(len(arr) -1):\n",
        "        min_idx = i\n",
        "        for j in range(i+1, len(arr)):\n",
        "          if arr[j] < arr[min_idx]:\n",
        "            min_idx = j\n",
        "        arr[i], arr[min_idx] = arr[min_idx], arr[i] # swap\n",
        "      return arr\n",
        "    \n",
        "    def insertion_sort(self, arr):\n",
        "        for end in range(1, len(arr)):\n",
        "          for i in range(end, 0, -1):\n",
        "            if arr[i-1] > arr[i]:\n",
        "              arr[i-1], arr[i] = arr[i], arr[i-1]\n",
        "            else:\n",
        "              break\n",
        "        return arr\n",
        "    \n",
        "    def merge_sort(self, arr):\n",
        "        def sort(low, high):\n",
        "          if high - low < 2:\n",
        "            return\n",
        "          mid = (low + high) // 2\n",
        "          sort(low, mid)\n",
        "          sort(mid, high)\n",
        "          merge(low, mid, high)\n",
        "\n",
        "        def merge(low, mid, high):\n",
        "          temp = []\n",
        "          l, h = low, mid\n",
        "\n",
        "          while l < mid and h < high:\n",
        "            if arr[l] < arr[h]:\n",
        "              temp.append(arr[l])\n",
        "              l += 1\n",
        "            else:\n",
        "              temp.append(arr[h])\n",
        "              h += 1\n",
        "          \n",
        "          # 나머지 잔반 처리\n",
        "          while l < mid:\n",
        "            temp.append(arr[l])\n",
        "            l += 1\n",
        "          while h < high:\n",
        "            temp.append(arr[h])\n",
        "            h += 1\n",
        "          \n",
        "          for i in range(low, high):\n",
        "            arr[i] = temp[i - low]\n",
        "          \n",
        "          arr = sort(0, len(arr))\n",
        "        return arr"
      ],
      "execution_count": 8,
      "outputs": []
    },
    {
      "cell_type": "code",
      "metadata": {
        "id": "E1tKG55IULpE",
        "colab": {
          "base_uri": "https://localhost:8080/"
        },
        "outputId": "50511098-e859-4221-a966-c22f89b26d44"
      },
      "source": [
        "array = [random.randint(0, 20) for _ in range(20)]\n",
        "\n",
        "algorithms = ['selection_sort', 'insertion_sort', 'merge_sort']\n",
        "for algorithm in algorithms:\n",
        "    sorter = Sorter.of(algorithm)\n",
        "    array_sorted = sorter.sort(array)\n",
        "    print('%s sorted? %s' % (algorithm, sorted(array) == array_sorted))"
      ],
      "execution_count": 9,
      "outputs": [
        {
          "output_type": "stream",
          "text": [
            "selection_sort sorted? True\n",
            "insertion_sort sorted? True\n",
            "merge_sort sorted? True\n"
          ],
          "name": "stdout"
        }
      ]
    },
    {
      "cell_type": "code",
      "metadata": {
        "id": "wj0K50Q5ULpI"
      },
      "source": [
        ""
      ],
      "execution_count": null,
      "outputs": []
    }
  ]
}